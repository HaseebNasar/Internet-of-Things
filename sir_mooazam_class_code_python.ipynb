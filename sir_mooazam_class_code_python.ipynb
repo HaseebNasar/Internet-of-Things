{
  "nbformat": 4,
  "nbformat_minor": 0,
  "metadata": {
    "colab": {
      "provenance": []
    },
    "kernelspec": {
      "name": "python3",
      "display_name": "Python 3"
    },
    "language_info": {
      "name": "python"
    }
  },
  "cells": [
    {
      "cell_type": "code",
      "execution_count": null,
      "metadata": {
        "colab": {
          "base_uri": "https://localhost:8080/"
        },
        "id": "hT2TPJrvqNNN",
        "outputId": "c73bd160-101f-4f62-d6c2-7033359dfa52"
      },
      "outputs": [
        {
          "output_type": "stream",
          "name": "stdout",
          "text": [
            "hello world\n"
          ]
        }
      ],
      "source": [
        "print(\"hello world\")"
      ]
    },
    {
      "cell_type": "code",
      "source": [
        "a=\"A.HASNAS\"\n",
        "print(a)"
      ],
      "metadata": {
        "colab": {
          "base_uri": "https://localhost:8080/"
        },
        "id": "Uz_nBBXmst-s",
        "outputId": "a563e9b7-29a8-485b-9416-9b2940058fec"
      },
      "execution_count": null,
      "outputs": [
        {
          "output_type": "stream",
          "name": "stdout",
          "text": [
            "A.HASNAS\n"
          ]
        }
      ]
    },
    {
      "cell_type": "code",
      "source": [
        "haseeb= 176\n",
        "print(haseeb)\n",
        "numf= 3.89\n",
        "print(numf)"
      ],
      "metadata": {
        "colab": {
          "base_uri": "https://localhost:8080/"
        },
        "id": "brG5P9uEtnGc",
        "outputId": "5043421e-d2b8-44a6-8550-726aab6ac121"
      },
      "execution_count": null,
      "outputs": [
        {
          "output_type": "stream",
          "name": "stdout",
          "text": [
            "176\n",
            "3.89\n"
          ]
        }
      ]
    },
    {
      "cell_type": "code",
      "source": [
        "print(2+haseeb)"
      ],
      "metadata": {
        "colab": {
          "base_uri": "https://localhost:8080/"
        },
        "id": "uxkLZQBTvNr0",
        "outputId": "962ef303-696d-4bbf-f7dc-1f10ecf5b744"
      },
      "execution_count": null,
      "outputs": [
        {
          "output_type": "stream",
          "name": "stdout",
          "text": [
            "178\n"
          ]
        }
      ]
    },
    {
      "cell_type": "code",
      "source": [
        "num1=12\n",
        "num2= 3.9\n"
      ],
      "metadata": {
        "id": "vb6wxoEDv8Yj"
      },
      "execution_count": null,
      "outputs": []
    },
    {
      "cell_type": "code",
      "source": [
        "num1+num2"
      ],
      "metadata": {
        "colab": {
          "base_uri": "https://localhost:8080/"
        },
        "id": "T5NRWdJJwPQU",
        "outputId": "4ba07cd9-cd38-4422-864a-dcd3031e6c9e"
      },
      "execution_count": null,
      "outputs": [
        {
          "output_type": "execute_result",
          "data": {
            "text/plain": [
              "15.9"
            ]
          },
          "metadata": {},
          "execution_count": 7
        }
      ]
    },
    {
      "cell_type": "code",
      "source": [
        "print(num1-num2)\n",
        "print(num1/num2) # forward slash for division\n",
        "print(num1*num2)\n",
        "print(num1//num2) #converting float into integer"
      ],
      "metadata": {
        "colab": {
          "base_uri": "https://localhost:8080/"
        },
        "id": "DjO6T7POwTez",
        "outputId": "0e87b6de-0909-46a1-98d2-f0e17e0ee76f"
      },
      "execution_count": null,
      "outputs": [
        {
          "output_type": "stream",
          "name": "stdout",
          "text": [
            "8.1\n",
            "3.076923076923077\n",
            "46.8\n",
            "3.0\n"
          ]
        }
      ]
    },
    {
      "cell_type": "code",
      "source": [
        "print(10%3)# % for remainder"
      ],
      "metadata": {
        "colab": {
          "base_uri": "https://localhost:8080/"
        },
        "id": "EF_GiWY4w_te",
        "outputId": "72919077-1077-4b89-84ff-eb750df8dce5"
      },
      "execution_count": null,
      "outputs": [
        {
          "output_type": "stream",
          "name": "stdout",
          "text": [
            "1\n"
          ]
        }
      ]
    },
    {
      "cell_type": "code",
      "source": [
        "num1=45\n",
        "num1=35 #overwrite the previous value\n",
        "print(num1)"
      ],
      "metadata": {
        "colab": {
          "base_uri": "https://localhost:8080/"
        },
        "id": "AEpSHiA9ylIU",
        "outputId": "02772408-b227-43b9-a691-967ec7c20cf7"
      },
      "execution_count": null,
      "outputs": [
        {
          "output_type": "stream",
          "name": "stdout",
          "text": [
            "35\n"
          ]
        }
      ]
    },
    {
      "cell_type": "code",
      "source": [
        "num1= num1 + 20 # first method of changing variable assigned before\n",
        "print(num1)"
      ],
      "metadata": {
        "colab": {
          "base_uri": "https://localhost:8080/"
        },
        "id": "-hm90Q8Izi88",
        "outputId": "d97cd012-0f77-40f4-e9fd-46a6eaaa1e40"
      },
      "execution_count": null,
      "outputs": [
        {
          "output_type": "stream",
          "name": "stdout",
          "text": [
            "55\n"
          ]
        }
      ]
    },
    {
      "cell_type": "code",
      "source": [
        "num1 += 1 #second method\n",
        "num1= num1 + 1\n",
        "num1\n"
      ],
      "metadata": {
        "colab": {
          "base_uri": "https://localhost:8080/"
        },
        "id": "uULnWPhp0Bgk",
        "outputId": "96903c1f-76c7-4159-9048-b8d45dd4cc1f"
      },
      "execution_count": null,
      "outputs": [
        {
          "output_type": "execute_result",
          "data": {
            "text/plain": [
              "57"
            ]
          },
          "metadata": {},
          "execution_count": 12
        }
      ]
    },
    {
      "cell_type": "code",
      "source": [
        "num1 += 2 # second method\n",
        "print(num1)"
      ],
      "metadata": {
        "colab": {
          "base_uri": "https://localhost:8080/"
        },
        "id": "3Qz5b7c103cc",
        "outputId": "27f945b8-f029-4c67-acbd-e2ea3993bf65"
      },
      "execution_count": null,
      "outputs": [
        {
          "output_type": "stream",
          "name": "stdout",
          "text": [
            "59\n"
          ]
        }
      ]
    },
    {
      "cell_type": "code",
      "source": [
        "d= (2*4) * 4 +2 #BODMAS rule in python but perform left to right operation\n",
        "print(d)"
      ],
      "metadata": {
        "colab": {
          "base_uri": "https://localhost:8080/"
        },
        "id": "lSyeJsD11Fuk",
        "outputId": "eb67f026-4ba9-4856-8302-e0f3a799301c"
      },
      "execution_count": null,
      "outputs": [
        {
          "output_type": "stream",
          "name": "stdout",
          "text": [
            "34\n"
          ]
        }
      ]
    },
    {
      "cell_type": "code",
      "source": [
        "first_name= \"Abdul Haseeb\" # adding 2 str is called concatination\n",
        "Last_name= \" Nasar\"\n",
        "print(first_name + Last_name)"
      ],
      "metadata": {
        "colab": {
          "base_uri": "https://localhost:8080/"
        },
        "id": "ym7DWT0t1rnb",
        "outputId": "911d52d7-fae8-4ae8-c21d-9d8a5facafa0"
      },
      "execution_count": null,
      "outputs": [
        {
          "output_type": "stream",
          "name": "stdout",
          "text": [
            "Abdul Haseeb Nasar\n"
          ]
        }
      ]
    },
    {
      "cell_type": "code",
      "source": [
        "2*first_name"
      ],
      "metadata": {
        "colab": {
          "base_uri": "https://localhost:8080/",
          "height": 35
        },
        "id": "UO6pXLzo2uAs",
        "outputId": "debb7dc6-7afb-4bcf-ab3c-6f7891c3deec"
      },
      "execution_count": null,
      "outputs": [
        {
          "output_type": "execute_result",
          "data": {
            "text/plain": [
              "'Abdul HaseebAbdul Haseeb'"
            ],
            "application/vnd.google.colaboratory.intrinsic+json": {
              "type": "string"
            }
          },
          "metadata": {},
          "execution_count": 16
        }
      ]
    },
    {
      "cell_type": "code",
      "source": [
        "print(first_name + \"\" + Last_name)"
      ],
      "metadata": {
        "colab": {
          "base_uri": "https://localhost:8080/"
        },
        "id": "DohHcXJY27MM",
        "outputId": "662acfe7-8e22-4e31-d678-d84f8a639790"
      },
      "execution_count": null,
      "outputs": [
        {
          "output_type": "stream",
          "name": "stdout",
          "text": [
            "Abdul Haseeb Nasar\n"
          ]
        }
      ]
    },
    {
      "cell_type": "code",
      "source": [
        "g= first_name + 2  # only str to str concatinate possible\n",
        "print(g)"
      ],
      "metadata": {
        "colab": {
          "base_uri": "https://localhost:8080/",
          "height": 183
        },
        "id": "4yt3geeT3HHP",
        "outputId": "ead7468e-d1ce-4fca-9e5f-40ffb87fabb8"
      },
      "execution_count": null,
      "outputs": [
        {
          "output_type": "error",
          "ename": "TypeError",
          "evalue": "ignored",
          "traceback": [
            "\u001b[0;31m---------------------------------------------------------------------------\u001b[0m",
            "\u001b[0;31mTypeError\u001b[0m                                 Traceback (most recent call last)",
            "\u001b[0;32m<ipython-input-21-60e3ad8c9c3d>\u001b[0m in \u001b[0;36m<cell line: 1>\u001b[0;34m()\u001b[0m\n\u001b[0;32m----> 1\u001b[0;31m \u001b[0mg\u001b[0m\u001b[0;34m=\u001b[0m \u001b[0mfirst_name\u001b[0m \u001b[0;34m+\u001b[0m \u001b[0;36m2\u001b[0m\u001b[0;34m\u001b[0m\u001b[0;34m\u001b[0m\u001b[0m\n\u001b[0m\u001b[1;32m      2\u001b[0m \u001b[0mprint\u001b[0m\u001b[0;34m(\u001b[0m\u001b[0mg\u001b[0m\u001b[0;34m)\u001b[0m\u001b[0;34m\u001b[0m\u001b[0;34m\u001b[0m\u001b[0m\n",
            "\u001b[0;31mTypeError\u001b[0m: can only concatenate str (not \"int\") to str"
          ]
        }
      ]
    },
    {
      "cell_type": "code",
      "source": [
        "print (first_name + \"3\") # 3 ko str banaya hai magr database mn woh integer hi hai"
      ],
      "metadata": {
        "colab": {
          "base_uri": "https://localhost:8080/"
        },
        "id": "LBRUOzUh3z01",
        "outputId": "dd1a8fbc-f383-4922-991e-862f5ec5630e"
      },
      "execution_count": null,
      "outputs": [
        {
          "output_type": "stream",
          "name": "stdout",
          "text": [
            "Abdul Haseeb3\n"
          ]
        }
      ]
    },
    {
      "cell_type": "code",
      "source": [
        "num3= 50\n",
        "print(\"score is: \" + str(num3)) # + ke saath concatinate karna ke lia dono str hona chahiya"
      ],
      "metadata": {
        "colab": {
          "base_uri": "https://localhost:8080/"
        },
        "id": "_7ymfMIq4otc",
        "outputId": "afc805ab-f979-4a71-ee52-bf07ee26b4ef"
      },
      "execution_count": null,
      "outputs": [
        {
          "output_type": "stream",
          "name": "stdout",
          "text": [
            "score is: 50\n"
          ]
        }
      ]
    },
    {
      "cell_type": "code",
      "source": [
        "type(num3)"
      ],
      "metadata": {
        "colab": {
          "base_uri": "https://localhost:8080/"
        },
        "id": "1fM_LJv75Qwl",
        "outputId": "64b139f2-e058-4e1e-9dbd-6c937f543618"
      },
      "execution_count": null,
      "outputs": [
        {
          "output_type": "execute_result",
          "data": {
            "text/plain": [
              "int"
            ]
          },
          "metadata": {},
          "execution_count": 24
        }
      ]
    },
    {
      "cell_type": "code",
      "source": [
        "print(\"score is: \", num3) # , se concatinate karta waqt sirf variable likh deta hain woh khud string ke saath int likh deta"
      ],
      "metadata": {
        "colab": {
          "base_uri": "https://localhost:8080/"
        },
        "id": "pBE7NZUk5h2E",
        "outputId": "e31bb107-43f7-4f34-8d2b-d849896f997e"
      },
      "execution_count": null,
      "outputs": [
        {
          "output_type": "stream",
          "name": "stdout",
          "text": [
            "score is:  50\n"
          ]
        }
      ]
    },
    {
      "cell_type": "code",
      "source": [
        "type(num3)"
      ],
      "metadata": {
        "colab": {
          "base_uri": "https://localhost:8080/"
        },
        "id": "5T0enzSW6Ym9",
        "outputId": "2226d0f3-64d4-477f-e28f-0b14054a1360"
      },
      "execution_count": null,
      "outputs": [
        {
          "output_type": "execute_result",
          "data": {
            "text/plain": [
              "int"
            ]
          },
          "metadata": {},
          "execution_count": 26
        }
      ]
    },
    {
      "cell_type": "code",
      "source": [
        "num4= \"10\"\n",
        "type(num4)"
      ],
      "metadata": {
        "colab": {
          "base_uri": "https://localhost:8080/"
        },
        "id": "G99xgZl96s6Z",
        "outputId": "122014b6-6458-48b1-eab9-605975a00344"
      },
      "execution_count": null,
      "outputs": [
        {
          "output_type": "execute_result",
          "data": {
            "text/plain": [
              "str"
            ]
          },
          "metadata": {},
          "execution_count": 5
        }
      ]
    },
    {
      "cell_type": "code",
      "source": [
        "num4=int(num4)"
      ],
      "metadata": {
        "id": "4PQcoTCN66p7"
      },
      "execution_count": null,
      "outputs": []
    },
    {
      "cell_type": "code",
      "source": [
        "type(num4)"
      ],
      "metadata": {
        "colab": {
          "base_uri": "https://localhost:8080/"
        },
        "id": "t08aOdXN7Dd9",
        "outputId": "dc635346-a23e-4e79-adbd-62326002bb61"
      },
      "execution_count": null,
      "outputs": [
        {
          "output_type": "execute_result",
          "data": {
            "text/plain": [
              "int"
            ]
          },
          "metadata": {},
          "execution_count": 29
        }
      ]
    },
    {
      "cell_type": "code",
      "source": [
        "#if condition:\n",
        "           #statement(syntex)\n"
      ],
      "metadata": {
        "id": "soDqkQW17G3z"
      },
      "execution_count": null,
      "outputs": []
    },
    {
      "cell_type": "code",
      "source": [
        "if 2+2 == 4: # == compare RHS = LHS\n",
        "  print(\"ok\")"
      ],
      "metadata": {
        "colab": {
          "base_uri": "https://localhost:8080/"
        },
        "id": "Lw2-gf077w5d",
        "outputId": "59527219-dddc-4be0-a03d-ff742a5aa8be"
      },
      "execution_count": null,
      "outputs": [
        {
          "output_type": "stream",
          "name": "stdout",
          "text": [
            "ok\n"
          ]
        }
      ]
    },
    {
      "cell_type": "code",
      "source": [
        "if 2+2 == 5:\n",
        "  print(\"true\")\n",
        "else:\n",
        "  print(\"false\")"
      ],
      "metadata": {
        "colab": {
          "base_uri": "https://localhost:8080/"
        },
        "id": "tER04tWc8KpV",
        "outputId": "12e747a8-c5b6-471b-da5c-d8185d9975b3"
      },
      "execution_count": null,
      "outputs": [
        {
          "output_type": "stream",
          "name": "stdout",
          "text": [
            "false\n"
          ]
        }
      ]
    },
    {
      "cell_type": "code",
      "source": [
        "name= \"Haseeb\"\n",
        "\n",
        "if name == \"Haseeb\":\n",
        "  print(\"ok\")\n",
        "else:\n",
        "  print(\"not ok\")\n"
      ],
      "metadata": {
        "colab": {
          "base_uri": "https://localhost:8080/"
        },
        "id": "3XX_1qZ78p4n",
        "outputId": "d4fe05fa-497d-406f-e218-48e994a2422c"
      },
      "execution_count": null,
      "outputs": [
        {
          "output_type": "stream",
          "name": "stdout",
          "text": [
            "ok\n"
          ]
        }
      ]
    },
    {
      "cell_type": "code",
      "source": [
        "name= \"Haseeb\"\n",
        "\n",
        "if name == \"rafey\":# for eqaul to\n",
        "  print(\"ok\")\n",
        "else:\n",
        "  print(\"not ok\")\n"
      ],
      "metadata": {
        "colab": {
          "base_uri": "https://localhost:8080/"
        },
        "id": "5cJzuUCh9R-c",
        "outputId": "b84daec8-2cb5-4275-c795-8358428ac505"
      },
      "execution_count": null,
      "outputs": [
        {
          "output_type": "stream",
          "name": "stdout",
          "text": [
            "not ok\n"
          ]
        }
      ]
    },
    {
      "cell_type": "code",
      "source": [
        "name= \"Haseeb\"\n",
        "\n",
        "if name != \"Haseeb\":\n",
        "  print(\"ok\")\n",
        "else:\n",
        "  print(\"not ok\")\n"
      ],
      "metadata": {
        "colab": {
          "base_uri": "https://localhost:8080/"
        },
        "id": "i8s0pZc69coW",
        "outputId": "1edbec25-14c3-419c-b472-829883985fcf"
      },
      "execution_count": null,
      "outputs": [
        {
          "output_type": "stream",
          "name": "stdout",
          "text": [
            "not ok\n"
          ]
        }
      ]
    },
    {
      "cell_type": "code",
      "source": [
        "name= \"Haseeb\"\n",
        "\n",
        "if name != \"rafey\": # for not equal to\n",
        "  print(\"ok\")\n",
        "else:\n",
        "  print(\"not ok\")\n"
      ],
      "metadata": {
        "colab": {
          "base_uri": "https://localhost:8080/"
        },
        "id": "1rSqE0ba97vo",
        "outputId": "9b4881b7-0704-4e28-da0b-2af6e0d7471a"
      },
      "execution_count": null,
      "outputs": [
        {
          "output_type": "stream",
          "name": "stdout",
          "text": [
            "ok\n"
          ]
        }
      ]
    },
    {
      "cell_type": "code",
      "source": [
        "number= 20\n",
        "\n",
        "if number > 20:\n",
        "  print(\"ok\")\n",
        "else:\n",
        "  print(\"not ok\")\n"
      ],
      "metadata": {
        "colab": {
          "base_uri": "https://localhost:8080/"
        },
        "id": "6dsyp1yX-I1-",
        "outputId": "6d483583-69fc-4af2-ccd1-a782daf6330e"
      },
      "execution_count": null,
      "outputs": [
        {
          "output_type": "stream",
          "name": "stdout",
          "text": [
            "not ok\n"
          ]
        }
      ]
    },
    {
      "cell_type": "code",
      "source": [
        "number= 20\n",
        "\n",
        "if number > 10:\n",
        "  print(\"ok\")\n",
        "else:\n",
        "  print(\"not ok\")"
      ],
      "metadata": {
        "colab": {
          "base_uri": "https://localhost:8080/"
        },
        "id": "MJC6BbPk-8h1",
        "outputId": "e0e55312-fe20-4aec-e05a-e59df582e596"
      },
      "execution_count": null,
      "outputs": [
        {
          "output_type": "stream",
          "name": "stdout",
          "text": [
            "ok\n"
          ]
        }
      ]
    },
    {
      "cell_type": "code",
      "source": [
        "number= 20\n",
        "\n",
        "if number < 10:\n",
        "  print(\"ok\")\n",
        "else:\n",
        "  print(\"not ok\")"
      ],
      "metadata": {
        "colab": {
          "base_uri": "https://localhost:8080/"
        },
        "id": "_c5KNJeF_Cze",
        "outputId": "d37b3002-f5e5-4e5e-987a-3a73f1a7ee7d"
      },
      "execution_count": null,
      "outputs": [
        {
          "output_type": "stream",
          "name": "stdout",
          "text": [
            "not ok\n"
          ]
        }
      ]
    },
    {
      "cell_type": "code",
      "source": [
        "number= 20\n",
        "\n",
        "if number >= 20:\n",
        "  print(\"ok\")\n",
        "else:\n",
        "  print(\"not ok\")"
      ],
      "metadata": {
        "colab": {
          "base_uri": "https://localhost:8080/"
        },
        "id": "qmouNw6w_Hz2",
        "outputId": "06bcbbdb-4e9e-432c-e592-06277875f032"
      },
      "execution_count": null,
      "outputs": [
        {
          "output_type": "stream",
          "name": "stdout",
          "text": [
            "ok\n"
          ]
        }
      ]
    },
    {
      "cell_type": "code",
      "source": [
        "number= 20\n",
        "\n",
        "if number <= 20:\n",
        "  print(\"ok\")\n",
        "else:\n",
        "  print(\"not ok\")"
      ],
      "metadata": {
        "colab": {
          "base_uri": "https://localhost:8080/"
        },
        "id": "IDVFZtVh_OBm",
        "outputId": "81b90304-f303-4c54-962c-e719c433831d"
      },
      "execution_count": null,
      "outputs": [
        {
          "output_type": "stream",
          "name": "stdout",
          "text": [
            "ok\n"
          ]
        }
      ]
    },
    {
      "cell_type": "code",
      "source": [
        "number= 20\n",
        "\n",
        "if number >= 50:\n",
        "  print(\"ok\")\n",
        "else:\n",
        "  print(\"not ok\")"
      ],
      "metadata": {
        "colab": {
          "base_uri": "https://localhost:8080/"
        },
        "id": "kPpbNXwa_VT1",
        "outputId": "6566f2bf-d30f-4d80-c01d-2871fbee2a44"
      },
      "execution_count": null,
      "outputs": [
        {
          "output_type": "stream",
          "name": "stdout",
          "text": [
            "not ok\n"
          ]
        }
      ]
    },
    {
      "cell_type": "code",
      "source": [
        "number= 20\n",
        "\n",
        "if number <= 50:\n",
        "  print(\"ok\")\n",
        "else:\n",
        "  print(\"not ok\")"
      ],
      "metadata": {
        "colab": {
          "base_uri": "https://localhost:8080/"
        },
        "id": "ZwWdkRWH_Zx1",
        "outputId": "f38d0dfb-9c4c-4b4e-ae67-e41f22022cac"
      },
      "execution_count": null,
      "outputs": [
        {
          "output_type": "stream",
          "name": "stdout",
          "text": [
            "ok\n"
          ]
        }
      ]
    },
    {
      "cell_type": "code",
      "source": [
        "number=40  # if statement will check all if whether it get true in first\n",
        "if number > 40:\n",
        "  print(\"greater\")\n",
        "if number < 40:\n",
        "  print(\"smaller\")\n",
        "if number == 40:\n",
        "  print(\"equals\")"
      ],
      "metadata": {
        "colab": {
          "base_uri": "https://localhost:8080/"
        },
        "id": "-CFp3bDP_c71",
        "outputId": "8fed6031-38bf-4420-f30b-db78aa614253"
      },
      "execution_count": null,
      "outputs": [
        {
          "output_type": "stream",
          "name": "stdout",
          "text": [
            "equals\n"
          ]
        }
      ]
    },
    {
      "cell_type": "code",
      "source": [
        "number=40# elif will stop where it will prove time kam\n",
        "if number > 46:\n",
        "  print(\"greater\")\n",
        "elif number < 46:\n",
        "  print(\"smaller\")\n",
        "elif number == 46:\n",
        "  print(\"equals\")"
      ],
      "metadata": {
        "colab": {
          "base_uri": "https://localhost:8080/"
        },
        "id": "ed5-C5pwGmjH",
        "outputId": "64bf12c1-5981-4d27-cd8b-5a069504accd"
      },
      "execution_count": null,
      "outputs": [
        {
          "output_type": "stream",
          "name": "stdout",
          "text": [
            "smaller\n"
          ]
        }
      ]
    },
    {
      "cell_type": "code",
      "source": [
        "number = 200\n",
        "\n",
        "if number%7 == 0:\n",
        "  print(\"true\")\n",
        "else:\n",
        "  print(\"false\")"
      ],
      "metadata": {
        "colab": {
          "base_uri": "https://localhost:8080/"
        },
        "id": "2j1_Jh9LHCNF",
        "outputId": "4e1a07ec-a834-4ffc-89d3-4fb9eff76c63"
      },
      "execution_count": null,
      "outputs": [
        {
          "output_type": "stream",
          "name": "stdout",
          "text": [
            "false\n"
          ]
        }
      ]
    },
    {
      "cell_type": "code",
      "source": [
        "number= 298\n",
        "if number%2 == 0:\n",
        "  print(\"even\")\n",
        "else:\n",
        "  print(\"odd\")"
      ],
      "metadata": {
        "colab": {
          "base_uri": "https://localhost:8080/"
        },
        "id": "HIF8tkX_IA6P",
        "outputId": "cef175de-3277-42f3-c945-49171f1bf3b4"
      },
      "execution_count": null,
      "outputs": [
        {
          "output_type": "stream",
          "name": "stdout",
          "text": [
            "even\n"
          ]
        }
      ]
    },
    {
      "cell_type": "code",
      "source": [
        "number= int(input()) #check whether the number is even or odd\n",
        "\n",
        "if number%2 == 0:\n",
        "  print(\"even\")\n",
        "else:\n",
        "  print(\"odd\")"
      ],
      "metadata": {
        "colab": {
          "base_uri": "https://localhost:8080/"
        },
        "id": "8cBGgvIuKL1f",
        "outputId": "9ab1f96c-8663-4cce-e11e-92e903892207"
      },
      "execution_count": null,
      "outputs": [
        {
          "output_type": "stream",
          "name": "stdout",
          "text": [
            "45\n",
            "odd\n"
          ]
        }
      ]
    },
    {
      "cell_type": "code",
      "source": [
        "number= int(input()) #check whether the number is divible by 7 or not\n",
        "if number%7 == 0:\n",
        "  print(\"true\")\n",
        "else:\n",
        "  print(\"false\")"
      ],
      "metadata": {
        "colab": {
          "base_uri": "https://localhost:8080/"
        },
        "id": "s1Pz8jjULPh3",
        "outputId": "f3ea588f-a206-4833-f1ca-ad04611f7063"
      },
      "execution_count": null,
      "outputs": [
        {
          "output_type": "stream",
          "name": "stdout",
          "text": [
            "49\n",
            "true\n"
          ]
        }
      ]
    },
    {
      "cell_type": "code",
      "source": [
        "number= int(input()) # Display hello when input is 5, diplay 7 when input is 7 otherwise error\n",
        "if number == 5:\n",
        "  print(\"HELLO\")\n",
        "elif number==7:\n",
        "  print(\"WORLD\")\n",
        "else:\n",
        "  print(\"ERROR\")"
      ],
      "metadata": {
        "colab": {
          "base_uri": "https://localhost:8080/"
        },
        "id": "M76lZ5JKLjOp",
        "outputId": "dd43fe71-390c-4b83-ed75-88a8cd28fb4f"
      },
      "execution_count": null,
      "outputs": [
        {
          "output_type": "stream",
          "name": "stdout",
          "text": [
            "45\n",
            "ERROR\n"
          ]
        }
      ]
    },
    {
      "cell_type": "code",
      "source": [
        "w=2**2\n",
        "o=3**2\n",
        "print(\"square of 2 is:\" , w)\n",
        "print(\"square of 3 is:\" , o)"
      ],
      "metadata": {
        "colab": {
          "base_uri": "https://localhost:8080/"
        },
        "id": "lh9xrJNqMYm3",
        "outputId": "2ba45492-3cbf-4efb-e8c4-0423de0e1d3e"
      },
      "execution_count": null,
      "outputs": [
        {
          "output_type": "stream",
          "name": "stdout",
          "text": [
            "square of 2 is: 4\n",
            "square of 3 is: 9\n"
          ]
        }
      ]
    },
    {
      "cell_type": "code",
      "source": [
        "# (and) if condition statement if if are both true 1 and 1,     or is complete opposite\n",
        "1 and 1"
      ],
      "metadata": {
        "colab": {
          "base_uri": "https://localhost:8080/"
        },
        "id": "uqfRAh0GN2vG",
        "outputId": "af9027a0-7515-4d6c-a56d-009bd59d128d"
      },
      "execution_count": null,
      "outputs": [
        {
          "output_type": "execute_result",
          "data": {
            "text/plain": [
              "1"
            ]
          },
          "metadata": {},
          "execution_count": 87
        }
      ]
    },
    {
      "cell_type": "code",
      "source": [
        "0 and 1"
      ],
      "metadata": {
        "colab": {
          "base_uri": "https://localhost:8080/"
        },
        "id": "5HkeRdtPPJGH",
        "outputId": "b394f0f9-153d-4170-8d32-a50d54edfa87"
      },
      "execution_count": null,
      "outputs": [
        {
          "output_type": "execute_result",
          "data": {
            "text/plain": [
              "0"
            ]
          },
          "metadata": {},
          "execution_count": 88
        }
      ]
    },
    {
      "cell_type": "code",
      "source": [
        "1 or 0"
      ],
      "metadata": {
        "colab": {
          "base_uri": "https://localhost:8080/"
        },
        "id": "yG3jSrmNPL9Y",
        "outputId": "8d9a671b-a4e4-4bc4-e73d-805a68f76f35"
      },
      "execution_count": null,
      "outputs": [
        {
          "output_type": "execute_result",
          "data": {
            "text/plain": [
              "1"
            ]
          },
          "metadata": {},
          "execution_count": 89
        }
      ]
    },
    {
      "cell_type": "code",
      "source": [
        "0 or 0"
      ],
      "metadata": {
        "colab": {
          "base_uri": "https://localhost:8080/"
        },
        "id": "_9mQOAsOPabH",
        "outputId": "50d465b1-0880-41a4-daa5-a602a57b33a1"
      },
      "execution_count": null,
      "outputs": [
        {
          "output_type": "execute_result",
          "data": {
            "text/plain": [
              "0"
            ]
          },
          "metadata": {},
          "execution_count": 90
        }
      ]
    },
    {
      "cell_type": "code",
      "source": [
        "1 or 1"
      ],
      "metadata": {
        "colab": {
          "base_uri": "https://localhost:8080/"
        },
        "id": "F0qYIKClPcUX",
        "outputId": "6c132d9b-c066-4b9d-dae3-234712d4e5bc"
      },
      "execution_count": null,
      "outputs": [
        {
          "output_type": "execute_result",
          "data": {
            "text/plain": [
              "1"
            ]
          },
          "metadata": {},
          "execution_count": 91
        }
      ]
    },
    {
      "cell_type": "code",
      "source": [
        "name= \"haseeb\"\n",
        "country= \"pakistan\"\n",
        "if name==\"haseeb\" and country==\"pakistan\":\n",
        "  print(\"ok\")\n",
        "else:\n",
        "  print(\"not ok\")"
      ],
      "metadata": {
        "colab": {
          "base_uri": "https://localhost:8080/"
        },
        "id": "CxBCBi3FPfjw",
        "outputId": "3c8cd39e-f267-4234-fc52-c073d762ce63"
      },
      "execution_count": null,
      "outputs": [
        {
          "output_type": "stream",
          "name": "stdout",
          "text": [
            "ok\n"
          ]
        }
      ]
    },
    {
      "cell_type": "code",
      "source": [
        "name= \"haseeb\"\n",
        "country= \"pakistan\"\n",
        "if name==\"nasar\" and country==\"pakistan\":\n",
        "  print(\"ok\")\n",
        "else:\n",
        "  print(\"not ok\")"
      ],
      "metadata": {
        "colab": {
          "base_uri": "https://localhost:8080/"
        },
        "id": "tK4V6WW6QD1y",
        "outputId": "584d18a2-12dd-477a-a83d-55802e81dbec"
      },
      "execution_count": null,
      "outputs": [
        {
          "output_type": "stream",
          "name": "stdout",
          "text": [
            "not ok\n"
          ]
        }
      ]
    },
    {
      "cell_type": "code",
      "source": [
        "name= \"haseeb\"\n",
        "country= \"pakistan\"\n",
        "if name==\"nasar\" or country==\"pakistan\":\n",
        "  print(\"ok\")\n",
        "else:\n",
        "  print(\"not ok\")"
      ],
      "metadata": {
        "colab": {
          "base_uri": "https://localhost:8080/"
        },
        "id": "0srsSJXeQSkP",
        "outputId": "6a6bc3a2-0e04-459f-a248-28a4b3e43b8c"
      },
      "execution_count": null,
      "outputs": [
        {
          "output_type": "stream",
          "name": "stdout",
          "text": [
            "ok\n"
          ]
        }
      ]
    },
    {
      "cell_type": "code",
      "source": [
        "name= \"haseeb\"\n",
        "country= \"pakistan\"\n",
        "if name==\"haseeb\" or country==\"pakistan\":\n",
        "  print(\"ok\")\n",
        "else:\n",
        "  print(\"not ok\")"
      ],
      "metadata": {
        "colab": {
          "base_uri": "https://localhost:8080/"
        },
        "id": "hDWm7T6YQWKQ",
        "outputId": "ef7907d1-becb-4b94-9d92-0badc9f60ecb"
      },
      "execution_count": null,
      "outputs": [
        {
          "output_type": "stream",
          "name": "stdout",
          "text": [
            "ok\n"
          ]
        }
      ]
    },
    {
      "cell_type": "code",
      "source": [
        "name= \"haseeb\"\n",
        "country= \"pakistan\"\n",
        "if name==\"haseeb\":\n",
        "  if  country==\"pakistan\":\n",
        "    print(\"both OK\")\n",
        "  else:\n",
        "    print(\"one match\")\n",
        "else:\n",
        "  print(\"not ok\")"
      ],
      "metadata": {
        "colab": {
          "base_uri": "https://localhost:8080/"
        },
        "id": "EgVKZuckQbHQ",
        "outputId": "21f11414-a067-4180-c14a-97f7908a0f11"
      },
      "execution_count": null,
      "outputs": [
        {
          "output_type": "stream",
          "name": "stdout",
          "text": [
            "both OK\n"
          ]
        }
      ]
    },
    {
      "cell_type": "code",
      "source": [
        "name= \"haseeb\"\n",
        "country= \"pakistan\"\n",
        "if name==\"ali\":\n",
        "  if  country==\"pakistan\":\n",
        "    print(\"both OK\")\n",
        "  else:\n",
        "    print(\"one match\")\n",
        "else:\n",
        "  print(\"not ok\")"
      ],
      "metadata": {
        "colab": {
          "base_uri": "https://localhost:8080/"
        },
        "id": "RrlZnGiXSawI",
        "outputId": "39a91817-c1eb-48f8-e2f9-27a761891ef5"
      },
      "execution_count": null,
      "outputs": [
        {
          "output_type": "stream",
          "name": "stdout",
          "text": [
            "not ok\n"
          ]
        }
      ]
    },
    {
      "cell_type": "code",
      "source": [
        "name= \"haseeb\"\n",
        "country= \"pakistan\"\n",
        "if name==\"haseeb\":\n",
        "  if  country==\"canada\":\n",
        "    print(\"both OK\")\n",
        "  else:\n",
        "    print(\"one match\")\n",
        "else:\n",
        "  print(\"not ok\")"
      ],
      "metadata": {
        "colab": {
          "base_uri": "https://localhost:8080/"
        },
        "id": "6JtYs8sAShp4",
        "outputId": "70f3a574-33ee-4bad-9af0-1af16a990e20"
      },
      "execution_count": null,
      "outputs": [
        {
          "output_type": "stream",
          "name": "stdout",
          "text": [
            "one match\n"
          ]
        }
      ]
    },
    {
      "cell_type": "code",
      "source": [
        "number= 123\n",
        "number[-1: -4: 1]\n",
        "\n"
      ],
      "metadata": {
        "colab": {
          "base_uri": "https://localhost:8080/",
          "height": 200
        },
        "id": "P7P7UiWwS7qo",
        "outputId": "d1b6f976-eb9a-4200-ab3c-c890e0c400bc"
      },
      "execution_count": null,
      "outputs": [
        {
          "output_type": "error",
          "ename": "TypeError",
          "evalue": "ignored",
          "traceback": [
            "\u001b[0;31m---------------------------------------------------------------------------\u001b[0m",
            "\u001b[0;31mTypeError\u001b[0m                                 Traceback (most recent call last)",
            "\u001b[0;32m<ipython-input-109-37da0bbb24e0>\u001b[0m in \u001b[0;36m<cell line: 2>\u001b[0;34m()\u001b[0m\n\u001b[1;32m      1\u001b[0m \u001b[0mnumber\u001b[0m\u001b[0;34m=\u001b[0m \u001b[0;36m123\u001b[0m\u001b[0;34m\u001b[0m\u001b[0;34m\u001b[0m\u001b[0m\n\u001b[0;32m----> 2\u001b[0;31m \u001b[0mnumber\u001b[0m\u001b[0;34m[\u001b[0m\u001b[0;34m-\u001b[0m\u001b[0;36m1\u001b[0m\u001b[0;34m:\u001b[0m \u001b[0;34m-\u001b[0m\u001b[0;36m4\u001b[0m\u001b[0;34m:\u001b[0m \u001b[0;36m1\u001b[0m\u001b[0;34m]\u001b[0m\u001b[0;34m\u001b[0m\u001b[0;34m\u001b[0m\u001b[0m\n\u001b[0m\u001b[1;32m      3\u001b[0m \u001b[0;34m\u001b[0m\u001b[0m\n",
            "\u001b[0;31mTypeError\u001b[0m: 'int' object is not subscriptable"
          ]
        }
      ]
    },
    {
      "cell_type": "code",
      "source": [
        "#topic list\n",
        "#[start value: end value(1 kam deta\"):step]\n",
        "cities=['karachi','lahore','quetta','pindi']\n",
        "print(cities)"
      ],
      "metadata": {
        "id": "g_GOaZNjUnGg",
        "colab": {
          "base_uri": "https://localhost:8080/"
        },
        "outputId": "7f3a2a30-cb49-4c6c-fae2-2683982c8990"
      },
      "execution_count": null,
      "outputs": [
        {
          "output_type": "stream",
          "name": "stdout",
          "text": [
            "['karachi', 'lahore', 'quetta', 'pindi']\n"
          ]
        }
      ]
    },
    {
      "cell_type": "code",
      "source": [
        "cities[0:3:1]"
      ],
      "metadata": {
        "colab": {
          "base_uri": "https://localhost:8080/"
        },
        "id": "l80fHOmOlDBK",
        "outputId": "8c8246c0-3c32-4604-e7c1-8c5e27d46828"
      },
      "execution_count": null,
      "outputs": [
        {
          "output_type": "execute_result",
          "data": {
            "text/plain": [
              "['karachi', 'lahore', 'quetta']"
            ]
          },
          "metadata": {},
          "execution_count": 2
        }
      ]
    },
    {
      "cell_type": "code",
      "source": [
        "cities[1:4:1]"
      ],
      "metadata": {
        "colab": {
          "base_uri": "https://localhost:8080/"
        },
        "id": "ZPTinlxklPoS",
        "outputId": "877b6b14-92e9-40b7-e537-9e39b8cfff3c"
      },
      "execution_count": null,
      "outputs": [
        {
          "output_type": "execute_result",
          "data": {
            "text/plain": [
              "['lahore', 'quetta', 'pindi']"
            ]
          },
          "metadata": {},
          "execution_count": 3
        }
      ]
    },
    {
      "cell_type": "code",
      "source": [
        "cities[-1:-3:1]"
      ],
      "metadata": {
        "colab": {
          "base_uri": "https://localhost:8080/"
        },
        "id": "QPKsc7qSlXnw",
        "outputId": "d3625d9e-d5c6-4d95-b2aa-dd1956e5b35d"
      },
      "execution_count": null,
      "outputs": [
        {
          "output_type": "execute_result",
          "data": {
            "text/plain": [
              "[]"
            ]
          },
          "metadata": {},
          "execution_count": 4
        }
      ]
    },
    {
      "cell_type": "code",
      "source": [
        "cities[-1:-3:-1]"
      ],
      "metadata": {
        "colab": {
          "base_uri": "https://localhost:8080/"
        },
        "id": "YC7pt8pmliNg",
        "outputId": "2d9f6be4-5ae1-4032-bd8f-67ab812f1c57"
      },
      "execution_count": null,
      "outputs": [
        {
          "output_type": "execute_result",
          "data": {
            "text/plain": [
              "['pindi', 'quetta']"
            ]
          },
          "metadata": {},
          "execution_count": 5
        }
      ]
    },
    {
      "cell_type": "code",
      "source": [
        "cities[ : :]# by default 1 step start from 0 and end at last"
      ],
      "metadata": {
        "colab": {
          "base_uri": "https://localhost:8080/"
        },
        "id": "o0xMi9dilmub",
        "outputId": "afd20864-0cdc-447c-e1e7-a5b4bcb02141"
      },
      "execution_count": null,
      "outputs": [
        {
          "output_type": "execute_result",
          "data": {
            "text/plain": [
              "['karachi', 'lahore', 'quetta', 'pindi']"
            ]
          },
          "metadata": {},
          "execution_count": 6
        }
      ]
    },
    {
      "cell_type": "code",
      "source": [
        "cities[1:4:2]"
      ],
      "metadata": {
        "colab": {
          "base_uri": "https://localhost:8080/"
        },
        "id": "8PREqppZlvrc",
        "outputId": "1d16a178-391d-4676-c9dd-96b9caf52280"
      },
      "execution_count": null,
      "outputs": [
        {
          "output_type": "execute_result",
          "data": {
            "text/plain": [
              "['lahore', 'pindi']"
            ]
          },
          "metadata": {},
          "execution_count": 7
        }
      ]
    },
    {
      "cell_type": "code",
      "source": [
        "department=\"mechanical\"\n",
        "#for passing []\n",
        "#only str is passable but not int\n",
        "department[0:4]"
      ],
      "metadata": {
        "colab": {
          "base_uri": "https://localhost:8080/",
          "height": 35
        },
        "id": "9DSH2hO0mFq7",
        "outputId": "4ec66eac-8784-4e33-8a8b-4fd9a2e5d334"
      },
      "execution_count": null,
      "outputs": [
        {
          "output_type": "execute_result",
          "data": {
            "text/plain": [
              "'mech'"
            ],
            "application/vnd.google.colaboratory.intrinsic+json": {
              "type": "string"
            }
          },
          "metadata": {},
          "execution_count": 8
        }
      ]
    },
    {
      "cell_type": "code",
      "source": [
        "num= 123456789\n",
        "num[0:4]"
      ],
      "metadata": {
        "colab": {
          "base_uri": "https://localhost:8080/",
          "height": 183
        },
        "id": "y65K9cVbnioO",
        "outputId": "95fe497d-ad47-4f53-979b-874f1b3b8d34"
      },
      "execution_count": null,
      "outputs": [
        {
          "output_type": "error",
          "ename": "TypeError",
          "evalue": "ignored",
          "traceback": [
            "\u001b[0;31m---------------------------------------------------------------------------\u001b[0m",
            "\u001b[0;31mTypeError\u001b[0m                                 Traceback (most recent call last)",
            "\u001b[0;32m<ipython-input-9-70edf6ce99bd>\u001b[0m in \u001b[0;36m<cell line: 2>\u001b[0;34m()\u001b[0m\n\u001b[1;32m      1\u001b[0m \u001b[0mnum\u001b[0m\u001b[0;34m=\u001b[0m \u001b[0;36m123456789\u001b[0m\u001b[0;34m\u001b[0m\u001b[0;34m\u001b[0m\u001b[0m\n\u001b[0;32m----> 2\u001b[0;31m \u001b[0mnum\u001b[0m\u001b[0;34m[\u001b[0m\u001b[0;36m0\u001b[0m\u001b[0;34m:\u001b[0m\u001b[0;36m4\u001b[0m\u001b[0;34m]\u001b[0m\u001b[0;34m\u001b[0m\u001b[0;34m\u001b[0m\u001b[0m\n\u001b[0m",
            "\u001b[0;31mTypeError\u001b[0m: 'int' object is not subscriptable"
          ]
        }
      ]
    },
    {
      "cell_type": "code",
      "source": [
        "num= 123456789\n",
        "str(num)[0:4]"
      ],
      "metadata": {
        "colab": {
          "base_uri": "https://localhost:8080/",
          "height": 35
        },
        "id": "BtLPzz2mn0Qv",
        "outputId": "ab9b3d13-32c4-4d17-f9c4-7b8a7d942aa7"
      },
      "execution_count": null,
      "outputs": [
        {
          "output_type": "execute_result",
          "data": {
            "text/plain": [
              "'1234'"
            ],
            "application/vnd.google.colaboratory.intrinsic+json": {
              "type": "string"
            }
          },
          "metadata": {},
          "execution_count": 11
        }
      ]
    },
    {
      "cell_type": "code",
      "source": [
        "#again converting in int\n",
        "type(num)"
      ],
      "metadata": {
        "colab": {
          "base_uri": "https://localhost:8080/"
        },
        "id": "9TQMFj-Jn8T_",
        "outputId": "7d45c181-abd3-4bcd-f48b-063078604d28"
      },
      "execution_count": null,
      "outputs": [
        {
          "output_type": "execute_result",
          "data": {
            "text/plain": [
              "int"
            ]
          },
          "metadata": {},
          "execution_count": 15
        }
      ]
    },
    {
      "cell_type": "code",
      "source": [
        "num2=int(str(num)[0:2])\n",
        "print(num2)"
      ],
      "metadata": {
        "colab": {
          "base_uri": "https://localhost:8080/"
        },
        "id": "IyC5Y5ttoOaP",
        "outputId": "b30fae41-6400-4bf3-c7c7-9b1157ca937d"
      },
      "execution_count": null,
      "outputs": [
        {
          "output_type": "stream",
          "name": "stdout",
          "text": [
            "12\n"
          ]
        }
      ]
    },
    {
      "cell_type": "code",
      "source": [
        "type(num2)"
      ],
      "metadata": {
        "colab": {
          "base_uri": "https://localhost:8080/"
        },
        "id": "aiqbkAcRosDv",
        "outputId": "b4b9c682-b211-46c0-8a39-a25d2fdd6b73"
      },
      "execution_count": null,
      "outputs": [
        {
          "output_type": "execute_result",
          "data": {
            "text/plain": [
              "int"
            ]
          },
          "metadata": {},
          "execution_count": 26
        }
      ]
    },
    {
      "cell_type": "code",
      "source": [
        "num3=1234567\n",
        "str(num3)[-1:-8:-1]\n",
        "num4=1234567\n",
        "str(num4)[7::-1]\n"
      ],
      "metadata": {
        "colab": {
          "base_uri": "https://localhost:8080/",
          "height": 35
        },
        "id": "dj3O_co2o9hf",
        "outputId": "41feb82a-880c-4dc9-d637-146a89dc4d83"
      },
      "execution_count": null,
      "outputs": [
        {
          "output_type": "execute_result",
          "data": {
            "text/plain": [
              "'7654321'"
            ],
            "application/vnd.google.colaboratory.intrinsic+json": {
              "type": "string"
            }
          },
          "metadata": {},
          "execution_count": 34
        }
      ]
    },
    {
      "cell_type": "code",
      "source": [
        "#append is to add anything in list variable at last\n",
        "name=['haseeb','rafey','haris']\n",
        "name"
      ],
      "metadata": {
        "colab": {
          "base_uri": "https://localhost:8080/"
        },
        "id": "rw7gZDDmpfj-",
        "outputId": "02a3a621-c456-4154-b1c3-3ccba549c85d"
      },
      "execution_count": null,
      "outputs": [
        {
          "output_type": "execute_result",
          "data": {
            "text/plain": [
              "['haseeb', 'rafey', 'haris']"
            ]
          },
          "metadata": {},
          "execution_count": 16
        }
      ]
    },
    {
      "cell_type": "code",
      "source": [
        "name.append('rehan')"
      ],
      "metadata": {
        "id": "NQbkrDtKqsPu"
      },
      "execution_count": null,
      "outputs": []
    },
    {
      "cell_type": "code",
      "source": [
        "name"
      ],
      "metadata": {
        "colab": {
          "base_uri": "https://localhost:8080/",
          "height": 35
        },
        "id": "nKOTUhW1q7ct",
        "outputId": "d58313e9-061f-4869-897d-1045674e6d01"
      },
      "execution_count": null,
      "outputs": [
        {
          "output_type": "execute_result",
          "data": {
            "text/plain": [
              "'haseeb'"
            ],
            "application/vnd.google.colaboratory.intrinsic+json": {
              "type": "string"
            }
          },
          "metadata": {},
          "execution_count": 15
        }
      ]
    },
    {
      "cell_type": "code",
      "source": [
        "#adding two list\n",
        "name_farig=['yahya','bilal']\n",
        "new_list = name + name_farig\n",
        "print(new_list)"
      ],
      "metadata": {
        "colab": {
          "base_uri": "https://localhost:8080/"
        },
        "id": "AKci7jkBq8fy",
        "outputId": "41f816c9-42a5-4d63-ae5e-046128e82f1f"
      },
      "execution_count": null,
      "outputs": [
        {
          "output_type": "stream",
          "name": "stdout",
          "text": [
            "['haseeb', 'rafey', 'haris', 'yahya', 'bilal']\n"
          ]
        }
      ]
    },
    {
      "cell_type": "code",
      "source": [
        "new_list.insert(3,'taha') #where to insert, name"
      ],
      "metadata": {
        "id": "2Py3QBQxr9TO"
      },
      "execution_count": null,
      "outputs": []
    },
    {
      "cell_type": "code",
      "source": [
        "name"
      ],
      "metadata": {
        "colab": {
          "base_uri": "https://localhost:8080/"
        },
        "id": "qvlCKTUltY8m",
        "outputId": "c73a219b-c970-47b1-e43f-9f7dbfce7d66"
      },
      "execution_count": null,
      "outputs": [
        {
          "output_type": "execute_result",
          "data": {
            "text/plain": [
              "['haseeb', 'rafey', 'haris', 'taha', 'rehan']"
            ]
          },
          "metadata": {},
          "execution_count": 36
        }
      ]
    },
    {
      "cell_type": "code",
      "source": [
        "new_list"
      ],
      "metadata": {
        "colab": {
          "base_uri": "https://localhost:8080/"
        },
        "id": "Shi7lcfCtaEu",
        "outputId": "f60d59eb-e39a-45bd-a560-ebc159941cf9"
      },
      "execution_count": null,
      "outputs": [
        {
          "output_type": "execute_result",
          "data": {
            "text/plain": [
              "['haseeb', 'rafey', 'haris', 'taha', 'rehan', 'yahya', 'bilal']"
            ]
          },
          "metadata": {},
          "execution_count": 40
        }
      ]
    },
    {
      "cell_type": "code",
      "source": [
        "final_group= new_list+ name"
      ],
      "metadata": {
        "id": "8waPE89Ztgpu"
      },
      "execution_count": null,
      "outputs": []
    },
    {
      "cell_type": "code",
      "source": [
        "print(final_group)"
      ],
      "metadata": {
        "id": "cBwBMl3Qt6Pe"
      },
      "execution_count": null,
      "outputs": []
    },
    {
      "cell_type": "code",
      "source": [
        "del final_group[4]"
      ],
      "metadata": {
        "id": "AYDMOoxUt-0e"
      },
      "execution_count": null,
      "outputs": []
    },
    {
      "cell_type": "code",
      "source": [
        "final_group"
      ],
      "metadata": {
        "colab": {
          "base_uri": "https://localhost:8080/"
        },
        "id": "QX43XkMB3TqV",
        "outputId": "7647a1a7-648d-47f6-f883-7687c3e9f831"
      },
      "execution_count": null,
      "outputs": [
        {
          "output_type": "execute_result",
          "data": {
            "text/plain": [
              "['haseeb',\n",
              " 'rafey',\n",
              " 'haris',\n",
              " 'taha',\n",
              " 'yahya',\n",
              " 'bilal',\n",
              " 'haseeb',\n",
              " 'rafey',\n",
              " 'haris',\n",
              " 'taha',\n",
              " 'rehan']"
            ]
          },
          "metadata": {},
          "execution_count": 48
        }
      ]
    },
    {
      "cell_type": "code",
      "source": [
        "final_group.remove(\"bilal\") #jab position pata na ho"
      ],
      "metadata": {
        "id": "DKhZWFVu3Xqb"
      },
      "execution_count": null,
      "outputs": []
    },
    {
      "cell_type": "code",
      "source": [
        "final_group"
      ],
      "metadata": {
        "colab": {
          "base_uri": "https://localhost:8080/"
        },
        "id": "9InefTGM3r4s",
        "outputId": "7b83fbe9-d0e4-4265-d703-c07d1ecff4e0"
      },
      "execution_count": null,
      "outputs": [
        {
          "output_type": "execute_result",
          "data": {
            "text/plain": [
              "['haseeb',\n",
              " 'rafey',\n",
              " 'haris',\n",
              " 'taha',\n",
              " 'yahya',\n",
              " 'haseeb',\n",
              " 'rafey',\n",
              " 'haris',\n",
              " 'taha',\n",
              " 'rehan']"
            ]
          },
          "metadata": {},
          "execution_count": 50
        }
      ]
    },
    {
      "cell_type": "code",
      "source": [
        "has=['cat','dog','monkey','bird']\n",
        "has.remove('dog','monkey')"
      ],
      "metadata": {
        "colab": {
          "base_uri": "https://localhost:8080/",
          "height": 183
        },
        "id": "eDNkLWiK3umM",
        "outputId": "24517bab-76e0-4396-9bdb-9e1fcb435ffc"
      },
      "execution_count": null,
      "outputs": [
        {
          "output_type": "error",
          "ename": "TypeError",
          "evalue": "ignored",
          "traceback": [
            "\u001b[0;31m---------------------------------------------------------------------------\u001b[0m",
            "\u001b[0;31mTypeError\u001b[0m                                 Traceback (most recent call last)",
            "\u001b[0;32m<ipython-input-51-d7eabc55eedc>\u001b[0m in \u001b[0;36m<cell line: 2>\u001b[0;34m()\u001b[0m\n\u001b[1;32m      1\u001b[0m \u001b[0mhas\u001b[0m\u001b[0;34m=\u001b[0m\u001b[0;34m[\u001b[0m\u001b[0;34m'cat'\u001b[0m\u001b[0;34m,\u001b[0m\u001b[0;34m'dog'\u001b[0m\u001b[0;34m,\u001b[0m\u001b[0;34m'monkey'\u001b[0m\u001b[0;34m,\u001b[0m\u001b[0;34m'bird'\u001b[0m\u001b[0;34m]\u001b[0m\u001b[0;34m\u001b[0m\u001b[0;34m\u001b[0m\u001b[0m\n\u001b[0;32m----> 2\u001b[0;31m \u001b[0mhas\u001b[0m\u001b[0;34m.\u001b[0m\u001b[0mremove\u001b[0m\u001b[0;34m(\u001b[0m\u001b[0;34m'dog'\u001b[0m\u001b[0;34m,\u001b[0m\u001b[0;34m'monkey'\u001b[0m\u001b[0;34m)\u001b[0m\u001b[0;34m\u001b[0m\u001b[0;34m\u001b[0m\u001b[0m\n\u001b[0m",
            "\u001b[0;31mTypeError\u001b[0m: list.remove() takes exactly one argument (2 given)"
          ]
        }
      ]
    },
    {
      "cell_type": "code",
      "source": [
        "kas=['cat','dog','monkey','bird','cat'] #left se jo phalay mil jaye\n",
        "kas.remove('cat')"
      ],
      "metadata": {
        "id": "C3tkLNCE4Ur0"
      },
      "execution_count": null,
      "outputs": []
    },
    {
      "cell_type": "code",
      "source": [
        "print(kas)"
      ],
      "metadata": {
        "colab": {
          "base_uri": "https://localhost:8080/"
        },
        "id": "ZK_K-Ryt43ur",
        "outputId": "3016ee24-2f6a-4779-d828-7abb0bec853f"
      },
      "execution_count": null,
      "outputs": [
        {
          "output_type": "stream",
          "name": "stdout",
          "text": [
            "['dog', 'monkey', 'bird', 'cat']\n"
          ]
        }
      ]
    },
    {
      "cell_type": "code",
      "source": [
        "del kas[0]"
      ],
      "metadata": {
        "id": "B7fegr6b453L"
      },
      "execution_count": null,
      "outputs": []
    },
    {
      "cell_type": "code",
      "source": [
        "kas"
      ],
      "metadata": {
        "colab": {
          "base_uri": "https://localhost:8080/"
        },
        "id": "ekBzqbou5IZL",
        "outputId": "e7920a88-f837-48be-e7db-f69b0bce146c"
      },
      "execution_count": null,
      "outputs": [
        {
          "output_type": "execute_result",
          "data": {
            "text/plain": [
              "['monkey', 'bird', 'cat']"
            ]
          },
          "metadata": {},
          "execution_count": 55
        }
      ]
    },
    {
      "cell_type": "code",
      "source": [
        "#del or pop mn farq ye hai ke ye output deta hai ke kia delete kia hai\n",
        "kas.pop(1)"
      ],
      "metadata": {
        "colab": {
          "base_uri": "https://localhost:8080/",
          "height": 35
        },
        "id": "dwtZQhJ15Jl6",
        "outputId": "3f914914-4ccc-414b-a5c2-3b5481b0df47"
      },
      "execution_count": null,
      "outputs": [
        {
          "output_type": "execute_result",
          "data": {
            "text/plain": [
              "'bird'"
            ],
            "application/vnd.google.colaboratory.intrinsic+json": {
              "type": "string"
            }
          },
          "metadata": {},
          "execution_count": 56
        }
      ]
    },
    {
      "cell_type": "code",
      "source": [
        "kas"
      ],
      "metadata": {
        "colab": {
          "base_uri": "https://localhost:8080/"
        },
        "id": "1qHr69mF53iL",
        "outputId": "9722b47e-5f66-4462-dd28-95c0fd82cccf"
      },
      "execution_count": null,
      "outputs": [
        {
          "output_type": "execute_result",
          "data": {
            "text/plain": [
              "['monkey', 'cat']"
            ]
          },
          "metadata": {},
          "execution_count": 57
        }
      ]
    },
    {
      "cell_type": "code",
      "source": [
        "#del, pop, remove list se koi element remove krn ake lai\n",
        "#tuple bhi list ki tarha hota bas tuple () mn hota hai aur kabhi chnge nhi hota\n",
        "country=['pak','india','turkey','iraq']\n",
        "city='pak'\n",
        "for i in country:\n",
        "  if i==city:\n",
        "    print(i, \"is lawaris\")\n",
        "  else:\n",
        "    print(i, \" is a good country\")"
      ],
      "metadata": {
        "colab": {
          "base_uri": "https://localhost:8080/"
        },
        "id": "-iPueVLJ55zL",
        "outputId": "11d2e891-ebc8-4ba3-8ecb-602932256f4c"
      },
      "execution_count": 12,
      "outputs": [
        {
          "output_type": "stream",
          "name": "stdout",
          "text": [
            "pak is lawaris\n",
            "india  is a good country\n",
            "turkey  is a good country\n",
            "iraq  is a good country\n"
          ]
        }
      ]
    },
    {
      "cell_type": "code",
      "source": [
        "country=['pak','india','turkey','iraq']\n",
        "city='turkey'\n",
        "for i in country:\n",
        "  if i==city:\n",
        "    print(i, \"is lawaris\")\n",
        "    break #break run hota hi aaga ka loop terminate /aaga ka code run nhi hota\n",
        "  else:\n",
        "    print(i, \" is a good country\")\n",
        "\n",
        "# topic loops\n",
        "# for i in range(5): syntax\n"
      ],
      "metadata": {
        "colab": {
          "base_uri": "https://localhost:8080/"
        },
        "id": "DKorNmlw7rO7",
        "outputId": "0df096cb-8305-406b-e79c-6e21a2dda8fc"
      },
      "execution_count": 15,
      "outputs": [
        {
          "output_type": "stream",
          "name": "stdout",
          "text": [
            "pak  is a good country\n",
            "india  is a good country\n",
            "turkey is lawaris\n"
          ]
        }
      ]
    },
    {
      "cell_type": "code",
      "source": [
        "for o in range(0,11):\n",
        "  print(o)"
      ],
      "metadata": {
        "colab": {
          "base_uri": "https://localhost:8080/"
        },
        "id": "G6xcjYW98cga",
        "outputId": "cb0c0d92-d4c4-4e48-dece-2ae203184115"
      },
      "execution_count": null,
      "outputs": [
        {
          "output_type": "stream",
          "name": "stdout",
          "text": [
            "0\n",
            "1\n",
            "2\n",
            "3\n",
            "4\n",
            "5\n",
            "6\n",
            "7\n",
            "8\n",
            "9\n",
            "10\n"
          ]
        }
      ]
    },
    {
      "cell_type": "code",
      "source": [
        "num=5\n",
        "\n",
        "for i in range(0,5):\n",
        "  sum=num*i\n",
        "  print(sum)"
      ],
      "metadata": {
        "colab": {
          "base_uri": "https://localhost:8080/"
        },
        "id": "fsaPGkmj88Sr",
        "outputId": "9c226933-e336-4e24-82db-2da2fee9769b"
      },
      "execution_count": null,
      "outputs": [
        {
          "output_type": "stream",
          "name": "stdout",
          "text": [
            "0\n",
            "5\n",
            "10\n",
            "15\n",
            "20\n"
          ]
        }
      ]
    },
    {
      "cell_type": "code",
      "source": [
        "for u in range(2,10,3):\n",
        "  print(u) #range(first,last,step) with comma\n"
      ],
      "metadata": {
        "colab": {
          "base_uri": "https://localhost:8080/"
        },
        "id": "eBPlvuWK9QPK",
        "outputId": "b87ea5ba-2c6f-4684-9351-ae520868718b"
      },
      "execution_count": null,
      "outputs": [
        {
          "output_type": "stream",
          "name": "stdout",
          "text": [
            "2\n",
            "5\n",
            "8\n"
          ]
        }
      ]
    },
    {
      "cell_type": "code",
      "source": [
        "num=int(input(\"enter a number=\"))\n",
        "print(\"table of 2 is :\")\n",
        "for i in range(0,10):\n",
        "  sum=num*i\n",
        "  print(sum)"
      ],
      "metadata": {
        "colab": {
          "base_uri": "https://localhost:8080/"
        },
        "id": "_pNQRI479qr6",
        "outputId": "58586702-edc7-4f07-8689-ee9218efb543"
      },
      "execution_count": null,
      "outputs": [
        {
          "output_type": "stream",
          "name": "stdout",
          "text": [
            "enter a number=2\n",
            "table of 2 is :\n",
            "0\n",
            "2\n",
            "4\n",
            "6\n",
            "8\n",
            "10\n",
            "12\n",
            "14\n",
            "16\n",
            "18\n"
          ]
        }
      ]
    },
    {
      "cell_type": "code",
      "source": [
        "print('2x1= 2')\n",
        "print('2x2= 4')\n",
        "print('2x3= 6')\n",
        "print('2x4= 8')\n",
        "print('2x5= 10')"
      ],
      "metadata": {
        "colab": {
          "base_uri": "https://localhost:8080/"
        },
        "id": "zduL7kFJ-DdK",
        "outputId": "a097ebd7-48a3-47fa-f18d-ed28391280d3"
      },
      "execution_count": null,
      "outputs": [
        {
          "output_type": "stream",
          "name": "stdout",
          "text": [
            "2x1= 2\n",
            "2x2= 4\n",
            "2x3= 6\n",
            "2x4= 8\n",
            "2x5= 10\n"
          ]
        }
      ]
    },
    {
      "cell_type": "code",
      "source": [
        "num=int(input('enter any number= '))\n",
        "for i in range(1,11):\n",
        "  print(num,'x',i,'=',num*i)"
      ],
      "metadata": {
        "colab": {
          "base_uri": "https://localhost:8080/"
        },
        "id": "DHL1-UME_KJv",
        "outputId": "ecf136c6-3a1c-4c07-a4a6-2e6292877cd1"
      },
      "execution_count": null,
      "outputs": [
        {
          "output_type": "stream",
          "name": "stdout",
          "text": [
            "enter any number= 6\n",
            "6 x 1 = 6\n",
            "6 x 2 = 12\n",
            "6 x 3 = 18\n",
            "6 x 4 = 24\n",
            "6 x 5 = 30\n",
            "6 x 6 = 36\n",
            "6 x 7 = 42\n",
            "6 x 8 = 48\n",
            "6 x 9 = 54\n",
            "6 x 10 = 60\n"
          ]
        }
      ]
    },
    {
      "cell_type": "code",
      "source": [
        "num=int(input('enter any number= '))\n",
        "num2=int(input('from 1 to ='))\n",
        "for i in range(1,num2):\n",
        "  print(num,'x',i,'=',num*i)"
      ],
      "metadata": {
        "colab": {
          "base_uri": "https://localhost:8080/"
        },
        "id": "Ko894iQU_e1Z",
        "outputId": "2641efef-0939-47f7-f715-e28cb40d1d20"
      },
      "execution_count": null,
      "outputs": [
        {
          "output_type": "stream",
          "name": "stdout",
          "text": [
            "enter any number= 5\n",
            "from 1 to =6\n",
            "5 x 1 = 5\n",
            "5 x 2 = 10\n",
            "5 x 3 = 15\n",
            "5 x 4 = 20\n",
            "5 x 5 = 25\n"
          ]
        }
      ]
    },
    {
      "cell_type": "code",
      "source": [
        "number= 123456789\n",
        "int(str(number)[-1:-10:-1])\n"
      ],
      "metadata": {
        "colab": {
          "base_uri": "https://localhost:8080/"
        },
        "id": "fhhKmTGBA6CD",
        "outputId": "0392788c-23e5-4413-d111-537e4fdc447f"
      },
      "execution_count": null,
      "outputs": [
        {
          "output_type": "execute_result",
          "data": {
            "text/plain": [
              "987654321"
            ]
          },
          "metadata": {},
          "execution_count": 80
        }
      ]
    },
    {
      "cell_type": "code",
      "source": [
        "number2=int(input(\"enter an integer= \"))\n",
        "lennum=len(str(number2))#length is for only str\n",
        "ans=0# armstronge no. of 373 is 3**3+7**3+3**3\n",
        "for i in range(lennum):\n",
        "  ans=ans + int(str(number2)[i])**lennum\n",
        "if number2==ans:\n",
        "  print('integer is an armstrong number')\n",
        "else:\n",
        "  print('interger is not an armstronge number')\n",
        "\n",
        "\n",
        "\n",
        "\n",
        ""
      ],
      "metadata": {
        "colab": {
          "base_uri": "https://localhost:8080/"
        },
        "id": "ath8KTp4BjEZ",
        "outputId": "3797270e-16de-401d-b562-90be2b0b3a76"
      },
      "execution_count": null,
      "outputs": [
        {
          "output_type": "stream",
          "name": "stdout",
          "text": [
            "enter an integer= 45\n",
            "interger is not an armstronge number\n"
          ]
        }
      ]
    },
    {
      "cell_type": "code",
      "source": [
        "t=4545\n",
        "p=(4**4)+(5**4)+(4**4)+5**4"
      ],
      "metadata": {
        "id": "RDYlQC4XC9dJ"
      },
      "execution_count": null,
      "outputs": []
    },
    {
      "cell_type": "code",
      "source": [
        "print(t)\n",
        "print(p)"
      ],
      "metadata": {
        "colab": {
          "base_uri": "https://localhost:8080/"
        },
        "id": "nzh0ns8PDNuZ",
        "outputId": "cdedcaaf-a7cd-41ad-f74f-838689c3c7bf"
      },
      "execution_count": null,
      "outputs": [
        {
          "output_type": "stream",
          "name": "stdout",
          "text": [
            "4545\n",
            "1762\n"
          ]
        }
      ]
    },
    {
      "cell_type": "code",
      "source": [
        "primenum=[2,3,5,7,9,11,13,15,17]\n",
        "number=int(input('enter any number'))\n",
        "number2=int(input('enter range'))\n",
        "for i in range(2,number2,2):\n",
        "  if number% number2==0:\n",
        "    print('the number is a prime number')\n",
        "  else:\n",
        "  print(\"the number is not a prime number\")"
      ],
      "metadata": {
        "id": "dswREfxlDZtq",
        "colab": {
          "base_uri": "https://localhost:8080/",
          "height": 269
        },
        "outputId": "7bb547b9-6fc5-4302-8bc6-eac6c0e75f02"
      },
      "execution_count": null,
      "outputs": [
        {
          "name": "stdout",
          "output_type": "stream",
          "text": [
            "enter any number7\n",
            "enter range7\n"
          ]
        },
        {
          "output_type": "error",
          "ename": "TypeError",
          "evalue": "ignored",
          "traceback": [
            "\u001b[0;31m---------------------------------------------------------------------------\u001b[0m",
            "\u001b[0;31mTypeError\u001b[0m                                 Traceback (most recent call last)",
            "\u001b[0;32m<ipython-input-28-b8a60b38315b>\u001b[0m in \u001b[0;36m<cell line: 4>\u001b[0;34m()\u001b[0m\n\u001b[1;32m      2\u001b[0m \u001b[0mnumber\u001b[0m\u001b[0;34m=\u001b[0m\u001b[0mint\u001b[0m\u001b[0;34m(\u001b[0m\u001b[0minput\u001b[0m\u001b[0;34m(\u001b[0m\u001b[0;34m'enter any number'\u001b[0m\u001b[0;34m)\u001b[0m\u001b[0;34m)\u001b[0m\u001b[0;34m\u001b[0m\u001b[0;34m\u001b[0m\u001b[0m\n\u001b[1;32m      3\u001b[0m \u001b[0mnumber2\u001b[0m\u001b[0;34m=\u001b[0m\u001b[0mint\u001b[0m\u001b[0;34m(\u001b[0m\u001b[0minput\u001b[0m\u001b[0;34m(\u001b[0m\u001b[0;34m'enter range'\u001b[0m\u001b[0;34m)\u001b[0m\u001b[0;34m)\u001b[0m\u001b[0;34m\u001b[0m\u001b[0;34m\u001b[0m\u001b[0m\n\u001b[0;32m----> 4\u001b[0;31m \u001b[0;32mif\u001b[0m \u001b[0mnumber\u001b[0m\u001b[0;34m%\u001b[0m \u001b[0mprimenum\u001b[0m\u001b[0;34m==\u001b[0m\u001b[0;36m0\u001b[0m\u001b[0;34m:\u001b[0m\u001b[0;34m\u001b[0m\u001b[0;34m\u001b[0m\u001b[0m\n\u001b[0m\u001b[1;32m      5\u001b[0m    \u001b[0mprint\u001b[0m\u001b[0;34m(\u001b[0m\u001b[0;34m'the number is a prime number'\u001b[0m\u001b[0;34m)\u001b[0m\u001b[0;34m\u001b[0m\u001b[0;34m\u001b[0m\u001b[0m\n\u001b[1;32m      6\u001b[0m \u001b[0;32melse\u001b[0m\u001b[0;34m:\u001b[0m\u001b[0;34m\u001b[0m\u001b[0;34m\u001b[0m\u001b[0m\n",
            "\u001b[0;31mTypeError\u001b[0m: unsupported operand type(s) for %: 'int' and 'list'"
          ]
        }
      ]
    },
    {
      "cell_type": "code",
      "source": [
        "#question8\n",
        "num1=int(input(\"enter first number= \"))\n",
        "num2=int(input(\"enter second number= \"))\n",
        "sum_of_two_numbers= num1+num2\n",
        "print(\"the sum of two numbers is \",sum_of_two_numbers )"
      ],
      "metadata": {
        "colab": {
          "base_uri": "https://localhost:8080/"
        },
        "id": "6qusdCtcpgWk",
        "outputId": "f6a7d616-723c-4e83-f7e9-acbb87f3b39b"
      },
      "execution_count": null,
      "outputs": [
        {
          "output_type": "stream",
          "name": "stdout",
          "text": [
            "enter first number= 35\n",
            "enter second number= 15\n",
            "the sum of two numbers is  50\n"
          ]
        }
      ]
    },
    {
      "cell_type": "code",
      "source": [
        "#ques10\n",
        "numeric= 1,2\n",
        "swap=str(numeric[1::-1])\n",
        "print(swap)"
      ],
      "metadata": {
        "colab": {
          "base_uri": "https://localhost:8080/"
        },
        "id": "DUelq3gTs920",
        "outputId": "d4ed0997-8d01-42aa-a71c-914f9442250d"
      },
      "execution_count": null,
      "outputs": [
        {
          "output_type": "stream",
          "name": "stdout",
          "text": [
            "(2, 1)\n"
          ]
        }
      ]
    },
    {
      "cell_type": "code",
      "source": [
        "#question11\n",
        "num1=int(input(\"enter first number= \"))\n",
        "num2=int(input(\"enter second number= \"))\n",
        "avg_of_two_numbers= (num1+num2)/2\n",
        "print(\"the sum of two numbers is \",avg_of_two_numbers )"
      ],
      "metadata": {
        "colab": {
          "base_uri": "https://localhost:8080/"
        },
        "id": "Xn-SmKRMtsMr",
        "outputId": "52559319-6af0-4958-a072-5d8cd383b77f"
      },
      "execution_count": null,
      "outputs": [
        {
          "output_type": "stream",
          "name": "stdout",
          "text": [
            "enter first number= 30\n",
            "enter second number= 40\n",
            "the sum of two numbers is  35.0\n"
          ]
        }
      ]
    },
    {
      "cell_type": "code",
      "source": [
        "#q5\n",
        "n=int(input('enter any number'))\n",
        "length=int(str(n)[-1::-1])\n",
        "if n==length:\n",
        "   print(\"your number is a palindrome number\")\n",
        "else:\n",
        "  print(\"your number is not a palindrome number\")\n",
        "\n",
        "\n",
        "\n",
        "\n"
      ],
      "metadata": {
        "id": "9eDMsd9TuVXp",
        "colab": {
          "base_uri": "https://localhost:8080/"
        },
        "outputId": "15476022-cb3e-4c3c-970c-8e02deec4ba4"
      },
      "execution_count": null,
      "outputs": [
        {
          "output_type": "stream",
          "name": "stdout",
          "text": [
            "enter any number4554\n",
            "your number is a palindrome number\n"
          ]
        }
      ]
    },
    {
      "cell_type": "code",
      "source": [
        "#q12/13\n",
        "m=int(input('enter any number'))\n",
        "l=int(len(str(m)))\n",
        "factorial=1\n",
        "for i in range(1,l+1):\n",
        "  factorial=factorial*(i)\n",
        "\n",
        "print(factorial)"
      ],
      "metadata": {
        "colab": {
          "base_uri": "https://localhost:8080/"
        },
        "id": "DIxLVSlLv_WS",
        "outputId": "0bc912b8-b2c2-4e6b-864c-8c6c79996059"
      },
      "execution_count": null,
      "outputs": [
        {
          "output_type": "stream",
          "name": "stdout",
          "text": [
            "enter any number5\n",
            "1\n"
          ]
        }
      ]
    },
    {
      "cell_type": "code",
      "source": [
        "dict1={\n",
        "    \"name\":\"haseeb\",\n",
        "    \"course\":\"iot\"\n",
        "}"
      ],
      "metadata": {
        "id": "V1ZDNrOizRnP"
      },
      "execution_count": null,
      "outputs": []
    },
    {
      "cell_type": "code",
      "source": [
        "print(dict1)"
      ],
      "metadata": {
        "colab": {
          "base_uri": "https://localhost:8080/"
        },
        "id": "SZ4UDPLh0DQg",
        "outputId": "4db520b3-c144-44b8-f07b-61d5a5daca91"
      },
      "execution_count": null,
      "outputs": [
        {
          "output_type": "stream",
          "name": "stdout",
          "text": [
            "{'course:iot', 'name:haseeb'}\n"
          ]
        }
      ]
    },
    {
      "cell_type": "code",
      "source": [
        "#dict ke saaath hamsha key likhi jati\n",
        "print(dict1[\"name\"])"
      ],
      "metadata": {
        "colab": {
          "base_uri": "https://localhost:8080/"
        },
        "id": "VCUvZE9P0KAo",
        "outputId": "8c189f74-2317-47bc-c908-e0ab509eb916"
      },
      "execution_count": null,
      "outputs": [
        {
          "output_type": "stream",
          "name": "stdout",
          "text": [
            "haseeb\n"
          ]
        }
      ]
    },
    {
      "cell_type": "code",
      "source": [
        "print(dict1[\"name\"]) #dict se value find karna"
      ],
      "metadata": {
        "colab": {
          "base_uri": "https://localhost:8080/"
        },
        "id": "0Q_bWbNZ1TAf",
        "outputId": "2e0cfa15-e4a6-4aa2-fd96-a12258521073"
      },
      "execution_count": null,
      "outputs": [
        {
          "output_type": "stream",
          "name": "stdout",
          "text": [
            "haseeb\n"
          ]
        }
      ]
    },
    {
      "cell_type": "code",
      "source": [
        "dict1[\"floor\"]=\"third\" #adding a value in dictionary\n",
        "print(dict1)"
      ],
      "metadata": {
        "colab": {
          "base_uri": "https://localhost:8080/"
        },
        "id": "vT_hxKlt1dp3",
        "outputId": "d23c060a-a00b-4790-a708-52cd9abe8214"
      },
      "execution_count": null,
      "outputs": [
        {
          "output_type": "stream",
          "name": "stdout",
          "text": [
            "{'name': 'haseeb', 'course': 'iot', 'floor': 'third'}\n"
          ]
        }
      ]
    },
    {
      "cell_type": "code",
      "source": [
        "#q14\n",
        "num10=int(input(\"enter number= \"))\n",
        "if num10%2==0:\n",
        "  print(\"your number is even\")\n",
        "else:\n",
        "  print(\"your number is odd\")\n",
        "\n",
        "\n",
        "\n"
      ],
      "metadata": {
        "colab": {
          "base_uri": "https://localhost:8080/"
        },
        "id": "IpVQODY62CEP",
        "outputId": "a74b8013-c225-44e2-e909-4fe613a36295"
      },
      "execution_count": null,
      "outputs": [
        {
          "output_type": "stream",
          "name": "stdout",
          "text": [
            "enter number= 34\n",
            "your number is even\n"
          ]
        }
      ]
    },
    {
      "cell_type": "code",
      "source": [
        "#ques17\n",
        "num10=int(input(\"enter first number= \"))\n",
        "num11=int(input(\"enter second number= \"))\n",
        "num12=int(input(\"enter first number= \"))\n",
        "if num10<num11 and num10<num12:\n",
        "  print(num10, \"is the smallest of all\")\n",
        "elif num11<num10 and num11<num12:\n",
        "  print(num11, \"is the smallest of all\")\n",
        "elif num12<num10 and num12<num11:\n",
        "  print(num12, \"is the smallest of all\")"
      ],
      "metadata": {
        "colab": {
          "base_uri": "https://localhost:8080/"
        },
        "id": "syXcVaKC5x0G",
        "outputId": "4112eb97-9667-4fa8-92d7-9e5ed332ee53"
      },
      "execution_count": null,
      "outputs": [
        {
          "output_type": "stream",
          "name": "stdout",
          "text": [
            "enter first number= 46\n",
            "enter second number= 98\n",
            "enter first number= 42\n",
            "42 is the smallest of all\n"
          ]
        }
      ]
    },
    {
      "cell_type": "code",
      "source": [
        "#ques6\n",
        "num10=int(input(\"enter first number= \"))\n",
        "num11=int(input(\"enter second number= \"))\n",
        "num12=int(input(\"enter first number= \"))\n",
        "if num10>num11 and num10>num12:\n",
        "  print(num10, \"is the greatest of all\")\n",
        "elif num11>num10 and num11>num12:\n",
        "  print(num11, \"is the greatest of all\")\n",
        "elif num12>num10 and num12>num11:\n",
        "  print(num12, \"is the greatest of all\")"
      ],
      "metadata": {
        "colab": {
          "base_uri": "https://localhost:8080/"
        },
        "id": "72leMMnB7pDF",
        "outputId": "7ad5c90b-2fe9-4628-d6f9-d54527883a1e"
      },
      "execution_count": null,
      "outputs": [
        {
          "output_type": "stream",
          "name": "stdout",
          "text": [
            "enter first number= 548\n",
            "enter second number= 342\n",
            "enter first number= 243254\n",
            "243254 is the greatest of all\n"
          ]
        }
      ]
    },
    {
      "cell_type": "code",
      "source": [
        "dict1.keys()"
      ],
      "metadata": {
        "colab": {
          "base_uri": "https://localhost:8080/"
        },
        "id": "MLf7F7l-_A0F",
        "outputId": "4bd2d5a4-cb5b-4f53-9c0d-e859f4d3d269"
      },
      "execution_count": null,
      "outputs": [
        {
          "output_type": "execute_result",
          "data": {
            "text/plain": [
              "dict_keys(['name', 'course', 'floor'])"
            ]
          },
          "metadata": {},
          "execution_count": 51
        }
      ]
    },
    {
      "cell_type": "code",
      "source": [
        "dict1.values()"
      ],
      "metadata": {
        "colab": {
          "base_uri": "https://localhost:8080/"
        },
        "id": "-m4C_ktmBHu8",
        "outputId": "da829f1d-db1c-40e4-b9ba-b5278101e67a"
      },
      "execution_count": null,
      "outputs": [
        {
          "output_type": "execute_result",
          "data": {
            "text/plain": [
              "dict_values(['haseeb', 'iot', 'third'])"
            ]
          },
          "metadata": {},
          "execution_count": 52
        }
      ]
    },
    {
      "cell_type": "code",
      "source": [
        "dict1.items()"
      ],
      "metadata": {
        "colab": {
          "base_uri": "https://localhost:8080/"
        },
        "id": "pvgri1NEBNVM",
        "outputId": "06c3078e-5ac6-41e9-ee90-d72744712a09"
      },
      "execution_count": null,
      "outputs": [
        {
          "output_type": "execute_result",
          "data": {
            "text/plain": [
              "dict_items([('name', 'haseeb'), ('course', 'iot'), ('floor', 'third')])"
            ]
          },
          "metadata": {},
          "execution_count": 53
        }
      ]
    },
    {
      "cell_type": "code",
      "source": [
        "for key in dict1.keys(): #loops in dictionary\n",
        "  print(key)"
      ],
      "metadata": {
        "colab": {
          "base_uri": "https://localhost:8080/"
        },
        "id": "k8GagL7CBRvr",
        "outputId": "6f8ae4e4-293d-4c9c-bc58-39383187d20a"
      },
      "execution_count": null,
      "outputs": [
        {
          "output_type": "stream",
          "name": "stdout",
          "text": [
            "name\n",
            "course\n",
            "floor\n"
          ]
        }
      ]
    },
    {
      "cell_type": "code",
      "source": [
        "for value in dict1.values():\n",
        "  print(value)"
      ],
      "metadata": {
        "colab": {
          "base_uri": "https://localhost:8080/"
        },
        "id": "Xk6Khgf1Bc9r",
        "outputId": "a6a123da-76ee-4e55-b39a-886b49d59f71"
      },
      "execution_count": null,
      "outputs": [
        {
          "output_type": "stream",
          "name": "stdout",
          "text": [
            "haseeb\n",
            "iot\n",
            "third\n"
          ]
        }
      ]
    },
    {
      "cell_type": "code",
      "source": [
        "for item in dict1.items():\n",
        "  print(item)"
      ],
      "metadata": {
        "colab": {
          "base_uri": "https://localhost:8080/"
        },
        "id": "hZC8G-UZBo6T",
        "outputId": "df173f94-ce0e-4e57-c5ec-1646f649b86a"
      },
      "execution_count": null,
      "outputs": [
        {
          "output_type": "stream",
          "name": "stdout",
          "text": [
            "('name', 'haseeb')\n",
            "('course', 'iot')\n",
            "('floor', 'third')\n"
          ]
        }
      ]
    },
    {
      "cell_type": "code",
      "source": [
        "def root(num):\n",
        "  nmb=int(input(\"enter any number= \"))\n",
        "  root= nmb**(1/2)\n",
        "  print(root)\n",
        "\n"
      ],
      "metadata": {
        "colab": {
          "base_uri": "https://localhost:8080/"
        },
        "id": "CvGSShEYB9qj",
        "outputId": "c9ffa003-b7c2-4882-f81c-57d57c69bc48"
      },
      "execution_count": null,
      "outputs": [
        {
          "output_type": "stream",
          "name": "stdout",
          "text": [
            "enter any number= 49\n",
            "7.0\n"
          ]
        }
      ]
    },
    {
      "cell_type": "code",
      "source": [
        "mn=int(input(\"enter table number= \"))\n",
        "fr=int(input(\"from 1 to = \"))\n",
        "for i in range(1,fr+1):\n",
        "  print(mn, \" x\", i, \"=\" , mn*i)"
      ],
      "metadata": {
        "colab": {
          "base_uri": "https://localhost:8080/"
        },
        "id": "TXOgznXtD9Cj",
        "outputId": "9675f710-a00c-4ce0-8f2f-684d1e47a230"
      },
      "execution_count": null,
      "outputs": [
        {
          "output_type": "stream",
          "name": "stdout",
          "text": [
            "enter table number= 2\n",
            "from 1 to = 10\n",
            "2  x 1 = 2\n",
            "2  x 2 = 4\n",
            "2  x 3 = 6\n",
            "2  x 4 = 8\n",
            "2  x 5 = 10\n",
            "2  x 6 = 12\n",
            "2  x 7 = 14\n",
            "2  x 8 = 16\n",
            "2  x 9 = 18\n",
            "2  x 10 = 20\n"
          ]
        }
      ]
    },
    {
      "cell_type": "code",
      "source": [
        "# (def) funtion mn code save ho jaata baar baar recall krana mn asasni hoti\n",
        "def multi(num1,num2,num3):\n",
        "  result= num1*num2*num3\n",
        "  print(result)\n",
        ""
      ],
      "metadata": {
        "id": "TWD4sddqEc4m"
      },
      "execution_count": null,
      "outputs": []
    },
    {
      "cell_type": "code",
      "source": [
        "multi(4,5,2)"
      ],
      "metadata": {
        "colab": {
          "base_uri": "https://localhost:8080/"
        },
        "id": "NyhTquebHgD6",
        "outputId": "e9a5c3f4-19d7-43db-e707-5e20bcb1898f"
      },
      "execution_count": null,
      "outputs": [
        {
          "output_type": "stream",
          "name": "stdout",
          "text": [
            "40\n"
          ]
        }
      ]
    },
    {
      "cell_type": "code",
      "source": [
        "def comp(num1,num2,num3,num4,):\n",
        "  result= num1*(num2**num3)/num4\n",
        "  print(result)"
      ],
      "metadata": {
        "id": "8ICRg_cSHjik"
      },
      "execution_count": null,
      "outputs": []
    },
    {
      "cell_type": "code",
      "source": [
        "comp(2,4,2,6)"
      ],
      "metadata": {
        "colab": {
          "base_uri": "https://localhost:8080/"
        },
        "id": "l_Mps0FxH3sy",
        "outputId": "4606a55b-5faa-4c8d-9fb1-056260171089"
      },
      "execution_count": null,
      "outputs": [
        {
          "output_type": "stream",
          "name": "stdout",
          "text": [
            "5.333333333333333\n"
          ]
        }
      ]
    },
    {
      "cell_type": "code",
      "source": [
        "#q12/13\n",
        "m=int(input('enter any number'))\n",
        "factorial=0\n",
        "for i in range(1,3):\n",
        "  factorial=factorial*(i-1)\n",
        "  print(factorial)"
      ],
      "metadata": {
        "colab": {
          "base_uri": "https://localhost:8080/"
        },
        "id": "0I-nAk1ZH9c5",
        "outputId": "d73e4d38-ad61-4a4d-f139-17601fa6391f"
      },
      "execution_count": null,
      "outputs": [
        {
          "output_type": "stream",
          "name": "stdout",
          "text": [
            "enter any number5\n",
            "0\n",
            "0\n"
          ]
        }
      ]
    },
    {
      "cell_type": "code",
      "source": [
        "#q12/13\n",
        "m=int(input('enter any number'))\n",
        "l=int(len(str(m)))\n",
        "factorial=1\n",
        "for i in range(1,l):\n",
        "  factorial=factorial*(l-1)\n",
        "  print(factor)\n"
      ],
      "metadata": {
        "colab": {
          "base_uri": "https://localhost:8080/"
        },
        "id": "Qwp2xrCKLX8N",
        "outputId": "ead6c22c-a20e-4dc9-f965-a098cf914bb5"
      },
      "execution_count": null,
      "outputs": [
        {
          "name": "stdout",
          "output_type": "stream",
          "text": [
            "enter any number5\n"
          ]
        }
      ]
    },
    {
      "cell_type": "code",
      "source": [
        "def root(num):\n",
        "\n",
        "  root= num**(1/2)\n",
        "  print(root)"
      ],
      "metadata": {
        "id": "Ci_f54O3LooP"
      },
      "execution_count": null,
      "outputs": []
    },
    {
      "cell_type": "code",
      "source": [
        "root(36)"
      ],
      "metadata": {
        "colab": {
          "base_uri": "https://localhost:8080/"
        },
        "id": "eZ3IU07ZMJ6a",
        "outputId": "77b57afc-d47f-42bf-960a-6e69f8aa4fb9"
      },
      "execution_count": null,
      "outputs": [
        {
          "output_type": "stream",
          "name": "stdout",
          "text": [
            "enter any number= 6\n",
            "2.449489742783178\n"
          ]
        }
      ]
    },
    {
      "cell_type": "code",
      "source": [
        "root(36)"
      ],
      "metadata": {
        "colab": {
          "base_uri": "https://localhost:8080/"
        },
        "id": "k3awkImJMVRY",
        "outputId": "a61345b8-1127-4367-eeaa-86843f6d2052"
      },
      "execution_count": null,
      "outputs": [
        {
          "output_type": "stream",
          "name": "stdout",
          "text": [
            "7.0\n"
          ]
        }
      ]
    },
    {
      "cell_type": "code",
      "source": [
        "root(36)"
      ],
      "metadata": {
        "colab": {
          "base_uri": "https://localhost:8080/"
        },
        "id": "ob9xr8RoMcxn",
        "outputId": "03676ea1-18f5-4565-e1cc-d62d70262169"
      },
      "execution_count": null,
      "outputs": [
        {
          "output_type": "stream",
          "name": "stdout",
          "text": [
            "6.0\n"
          ]
        }
      ]
    },
    {
      "cell_type": "code",
      "source": [
        "\n",
        "num10=int(input(\"enter first number= \"))\n",
        "num11=int(input(\"enter second number= \"))\n",
        "num12=int(input(\"enter first number= \"))\n",
        "if num10<num11 and num10<num12:\n",
        "  print(num10, \"is the smallest of all\")\n",
        "elif num11<num10 and num11<num12:\n",
        "  print(num11, \"is the smallest of all\")\n",
        "elif num12<num10 and num12<num11:\n",
        "  print(num12, \"is the smallest of all\")"
      ],
      "metadata": {
        "colab": {
          "base_uri": "https://localhost:8080/"
        },
        "id": "TbKaKTKUMiin",
        "outputId": "4fc52dfa-99dc-4f5f-d9b1-78f760528c05"
      },
      "execution_count": null,
      "outputs": [
        {
          "output_type": "stream",
          "name": "stdout",
          "text": [
            "enter first number= 5874365\n",
            "enter second number= 6\n",
            "enter first number= 823\n",
            "6 is the smallest of all\n"
          ]
        }
      ]
    },
    {
      "cell_type": "code",
      "source": [
        "string=\"pakistan\"\n",
        "string[0:3:1]"
      ],
      "metadata": {
        "colab": {
          "base_uri": "https://localhost:8080/",
          "height": 35
        },
        "id": "0ULZOHPSMpqH",
        "outputId": "d9b82f5d-d511-45ef-db14-9409117540e6"
      },
      "execution_count": null,
      "outputs": [
        {
          "output_type": "execute_result",
          "data": {
            "text/plain": [
              "'pak'"
            ],
            "application/vnd.google.colaboratory.intrinsic+json": {
              "type": "string"
            }
          },
          "metadata": {},
          "execution_count": 86
        }
      ]
    },
    {
      "cell_type": "code",
      "source": [
        "string.replace('i','') #delete any character from string"
      ],
      "metadata": {
        "colab": {
          "base_uri": "https://localhost:8080/",
          "height": 35
        },
        "id": "LyToReX7M3-4",
        "outputId": "7d836320-119e-44a6-9ea4-af35c00d07d0"
      },
      "execution_count": null,
      "outputs": [
        {
          "output_type": "execute_result",
          "data": {
            "text/plain": [
              "'pakstan'"
            ],
            "application/vnd.google.colaboratory.intrinsic+json": {
              "type": "string"
            }
          },
          "metadata": {},
          "execution_count": 89
        }
      ]
    },
    {
      "cell_type": "code",
      "source": [
        "def smalno(num10,num11,num12):\n",
        "  if num10<num11 and num10<num12:\n",
        "    print(num10, \"is the smallest of all\")\n",
        "  elif num11<num10 and num11<num12:\n",
        "    print(num11, \"is the smallest of all\")\n",
        "  elif num12<num10 and num12<num11:\n",
        "    print(num12, \"is the smallest of all\")"
      ],
      "metadata": {
        "id": "qg5YFaKGNQVi"
      },
      "execution_count": null,
      "outputs": []
    },
    {
      "cell_type": "code",
      "source": [
        "smalno(34,324,32)"
      ],
      "metadata": {
        "colab": {
          "base_uri": "https://localhost:8080/"
        },
        "id": "ml0AB04AO3h3",
        "outputId": "674ce8c7-4e8a-4a78-de16-9d4fd85149c5"
      },
      "execution_count": null,
      "outputs": [
        {
          "output_type": "stream",
          "name": "stdout",
          "text": [
            "32 is the smallest of all\n"
          ]
        }
      ]
    },
    {
      "cell_type": "code",
      "source": [
        "#q12/13\n",
        "m=int(input('enter any number'))\n",
        "l=int(len(str(m)))\n",
        "factorial=1\n",
        "for i in range(1,m+1):\n",
        "  factorial=factorial*(i)\n",
        "print(factorial)"
      ],
      "metadata": {
        "colab": {
          "base_uri": "https://localhost:8080/"
        },
        "id": "ED5fq1qsO7m2",
        "outputId": "97920bc6-a131-4211-a093-e89e0ba0f01f"
      },
      "execution_count": null,
      "outputs": [
        {
          "output_type": "stream",
          "name": "stdout",
          "text": [
            "enter any number4\n",
            "24\n"
          ]
        }
      ]
    },
    {
      "cell_type": "code",
      "source": [
        "name = ['haris','haseeb','rehan','ABDUL RAFEY']\n",
        "name[1:2]"
      ],
      "metadata": {
        "id": "B84F4t4dP2DX",
        "colab": {
          "base_uri": "https://localhost:8080/"
        },
        "outputId": "c3a865ca-2e09-45fc-c189-01390e385d4c"
      },
      "execution_count": null,
      "outputs": [
        {
          "output_type": "execute_result",
          "data": {
            "text/plain": [
              "['haseeb']"
            ]
          },
          "metadata": {},
          "execution_count": 3
        }
      ]
    },
    {
      "cell_type": "code",
      "source": [
        "print(name[0:1])\n",
        "print(name[1:2])\n",
        "print(name[2:3])\n",
        "print(name[3:4])"
      ],
      "metadata": {
        "colab": {
          "base_uri": "https://localhost:8080/"
        },
        "id": "FBG-6f-8D0x4",
        "outputId": "cbada13f-70c7-4138-9c52-26f5e87ac3c3"
      },
      "execution_count": null,
      "outputs": [
        {
          "output_type": "stream",
          "name": "stdout",
          "text": [
            "['haris']\n",
            "['haseeb']\n",
            "['rehan']\n",
            "['ABDUL RAFEY']\n"
          ]
        }
      ]
    },
    {
      "cell_type": "code",
      "source": [
        "#q12/13\n",
        "m=int(input('enter any number'))\n",
        "factorial=1\n",
        "for i in range(1,m+1):\n",
        "  factorial=factorial*(i)\n",
        "\n",
        "print(factorial)"
      ],
      "metadata": {
        "id": "sLuHrwICEGNB",
        "colab": {
          "base_uri": "https://localhost:8080/"
        },
        "outputId": "377d8480-5aa4-45e9-a23c-d63003ebbfc7"
      },
      "execution_count": null,
      "outputs": [
        {
          "output_type": "stream",
          "name": "stdout",
          "text": [
            "enter any number5\n",
            "120\n"
          ]
        }
      ]
    },
    {
      "cell_type": "code",
      "source": [
        "\n",
        "A=99\n",
        "print(\"Haseeb got\", A, \"in mathematics\")\n",
        "\n"
      ],
      "metadata": {
        "id": "jTVDGvPE4o3O",
        "colab": {
          "base_uri": "https://localhost:8080/"
        },
        "outputId": "c809d7f4-8997-49a1-8df0-cb77cd11fb15"
      },
      "execution_count": 2,
      "outputs": [
        {
          "output_type": "stream",
          "name": "stdout",
          "text": [
            "Haseeb got 99 in mathematics\n"
          ]
        }
      ]
    },
    {
      "cell_type": "code",
      "source": [
        "enter=int(input(\"Enter any number = \"))\n",
        "print(\"table of \", enter ,'is following')\n",
        "for i in range(1,11):\n",
        "  print( enter, \"*\", i,'=','', enter*i)"
      ],
      "metadata": {
        "colab": {
          "base_uri": "https://localhost:8080/"
        },
        "id": "9xRSwsFa41YM",
        "outputId": "6d646180-9a51-4267-878a-25abaa70c305"
      },
      "execution_count": 3,
      "outputs": [
        {
          "output_type": "stream",
          "name": "stdout",
          "text": [
            "Enter any number = 4\n",
            "table of  4 is following\n",
            "4 * 1 =  4\n",
            "4 * 2 =  8\n",
            "4 * 3 =  12\n",
            "4 * 4 =  16\n",
            "4 * 5 =  20\n",
            "4 * 6 =  24\n",
            "4 * 7 =  28\n",
            "4 * 8 =  32\n",
            "4 * 9 =  36\n",
            "4 * 10 =  40\n"
          ]
        }
      ]
    },
    {
      "cell_type": "code",
      "source": [
        "enter=int(input(\"Enter any number (1-9) = \"))\n",
        "\n",
        "for i in range(1,8):\n",
        "  if enter== 1:\n",
        "    print(enter*i)\n",
        "  elif enter== 2:\n",
        "    print(enter+i)\n",
        "  elif enter== 3:\n",
        "    print(enter-i)\n",
        "  elif enter== 4:\n",
        "    print(enter/i)\n",
        "  elif enter== 5:\n",
        "    print(enter**i)\n",
        "  elif enter== 6:\n",
        "    print(enter//i)\n",
        "  elif enter== 7:\n",
        "    print(enter+i+i*enter)\n",
        "  elif enter== 8:\n",
        "    print(enter-i-i-i*enter)\n",
        "  elif enter== 9:\n",
        "    print(enter**i)"
      ],
      "metadata": {
        "colab": {
          "base_uri": "https://localhost:8080/"
        },
        "id": "3cCmQfVU5hTE",
        "outputId": "4d5b2f3b-0c8a-4c2c-b5a9-80ef98b7306e"
      },
      "execution_count": 7,
      "outputs": [
        {
          "output_type": "stream",
          "name": "stdout",
          "text": [
            "Enter any number (1-9) = 9\n",
            "9\n",
            "81\n",
            "729\n",
            "6561\n",
            "59049\n",
            "531441\n",
            "4782969\n"
          ]
        }
      ]
    },
    {
      "cell_type": "code",
      "source": [
        "enter=str(input(\"num= \"))\n",
        "\n",
        "q=(enter[-1::-1])\n",
        "print(q)\n",
        "now= q[-1::-1]\n",
        "print(now)\n"
      ],
      "metadata": {
        "colab": {
          "base_uri": "https://localhost:8080/"
        },
        "id": "zrfYfEaD7Frx",
        "outputId": "3ba724ca-dab4-406d-b811-4b601611fd2b"
      },
      "execution_count": 34,
      "outputs": [
        {
          "output_type": "stream",
          "name": "stdout",
          "text": [
            "num= 34656\n",
            "65643\n",
            "34656\n"
          ]
        }
      ]
    },
    {
      "cell_type": "code",
      "source": [
        "print(enter[9::-1])"
      ],
      "metadata": {
        "colab": {
          "base_uri": "https://localhost:8080/"
        },
        "id": "wiLCEWmJAmqA",
        "outputId": "579bca01-e2c0-4332-afea-1567f6e20bc7"
      },
      "execution_count": 32,
      "outputs": [
        {
          "output_type": "stream",
          "name": "stdout",
          "text": [
            "987654321\n"
          ]
        }
      ]
    },
    {
      "cell_type": "code",
      "source": [],
      "metadata": {
        "id": "ZUTx_ijAA_4Y"
      },
      "execution_count": null,
      "outputs": []
    }
  ]
}